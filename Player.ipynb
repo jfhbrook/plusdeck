{
 "cells": [
  {
   "cell_type": "code",
   "execution_count": 1,
   "id": "16a10a84-861c-482b-ba64-7a3da015713c",
   "metadata": {},
   "outputs": [],
   "source": [
    "%autoawait asyncio\n",
    "\n",
    "import asyncio\n",
    "\n",
    "from plusdeck import Command, State, Side, PlusDeckProtocol, create_connection"
   ]
  },
  {
   "cell_type": "code",
   "execution_count": 2,
   "id": "5903c42a-1af2-4437-9e2e-a350b853f0d8",
   "metadata": {},
   "outputs": [],
   "source": [
    "# Going to depend on the machine\n",
    "PORT = '/dev/ttyUSB0'"
   ]
  },
  {
   "cell_type": "code",
   "execution_count": 3,
   "id": "bcbcd15c-49cc-4b88-9bbb-373d4cf87fd3",
   "metadata": {},
   "outputs": [],
   "source": [
    "class Protocol(PlusDeckProtocol):\n",
    "    def on_state(self, state):\n",
    "        print(state)"
   ]
  },
  {
   "cell_type": "code",
   "execution_count": 4,
   "id": "d7db6759-6b7e-4be8-86db-8927d472abda",
   "metadata": {},
   "outputs": [
    {
     "name": "stdout",
     "output_type": "stream",
     "text": [
      "State.Ready\n",
      "State.PausedOnA\n",
      "State.Ready\n",
      "State.Ejected\n",
      "State.Ejected\n",
      "State.Ejected\n",
      "State.Ejected\n",
      "State.Ejected\n",
      "State.Ejected\n",
      "State.Ejected\n",
      "State.Ejected\n",
      "State.Ejected\n",
      "State.Ejected\n",
      "State.Ejected\n",
      "State.Ejected\n",
      "State.Off\n",
      "State.Ready\n",
      "State.Ejected\n",
      "State.Ejected\n",
      "State.Ejected\n",
      "State.Ejected\n",
      "State.Ejected\n",
      "State.Ejected\n",
      "State.Ejected\n",
      "State.Ejected\n",
      "State.Ejected\n",
      "State.Ejected\n",
      "State.Ejected\n",
      "State.Ejected\n",
      "State.Off\n"
     ]
    }
   ],
   "source": [
    "transport, protocol = await create_connection(Protocol, PORT)\n",
    "    "
   ]
  },
  {
   "cell_type": "code",
   "execution_count": 7,
   "id": "28ff4dcc-1710-4d4d-94cc-20cb5f886b21",
   "metadata": {},
   "outputs": [],
   "source": [
    "async def work():\n",
    "    protocol.send_command(Command.On)\n",
    "\n",
    "    await asyncio.sleep(2)\n",
    "\n",
    "    protocol.send_command(Command.Off)\n",
    "\n",
    "    await asyncio.sleep(2)\n",
    "\n",
    "await work()"
   ]
  },
  {
   "cell_type": "code",
   "execution_count": null,
   "id": "d2409792-e019-4a3c-8d05-79888828d261",
   "metadata": {},
   "outputs": [],
   "source": []
  }
 ],
 "metadata": {
  "kernelspec": {
   "display_name": "Python 3 (ipykernel)",
   "language": "python",
   "name": "python3"
  },
  "language_info": {
   "codemirror_mode": {
    "name": "ipython",
    "version": 3
   },
   "file_extension": ".py",
   "mimetype": "text/x-python",
   "name": "python",
   "nbconvert_exporter": "python",
   "pygments_lexer": "ipython3",
   "version": "3.11.7"
  }
 },
 "nbformat": 4,
 "nbformat_minor": 5
}
