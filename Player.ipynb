{
 "cells": [
  {
   "cell_type": "code",
   "execution_count": 1,
   "id": "16a10a84-861c-482b-ba64-7a3da015713c",
   "metadata": {},
   "outputs": [],
   "source": [
    "%autoawait asyncio\n",
    "\n",
    "import asyncio\n",
    "\n",
    "from plusdeck import Command, State, Side, create_connection"
   ]
  },
  {
   "cell_type": "code",
   "execution_count": 10,
   "id": "5903c42a-1af2-4437-9e2e-a350b853f0d8",
   "metadata": {},
   "outputs": [],
   "source": [
    "# Going to depend on the machine\n",
    "PORT = '/dev/ttyUSB0'\n",
    "\n",
    "# Will need to try some baud rates and see how fast we can go\n",
    "\n",
    "BAUDRATE = 115200"
   ]
  },
  {
   "cell_type": "code",
   "execution_count": 2,
   "id": "d7db6759-6b7e-4be8-86db-8927d472abda",
   "metadata": {},
   "outputs": [
    {
     "ename": "SyntaxError",
     "evalue": "incomplete input (370708156.py, line 1)",
     "output_type": "error",
     "traceback": [
      "\u001b[0;36m  Cell \u001b[0;32mIn[2], line 1\u001b[0;36m\u001b[0m\n\u001b[0;31m    transport, protocol = await create_connection(\u001b[0m\n\u001b[0m                                                  ^\u001b[0m\n\u001b[0;31mSyntaxError\u001b[0m\u001b[0;31m:\u001b[0m incomplete input\n"
     ]
    }
   ],
   "source": [
    "transport, protocol = await create_connection(\n",
    "    asyncio.get_running_loop(),\n",
    "    PORT,\n",
    "    \n",
    "    "
   ]
  },
  {
   "cell_type": "code",
   "execution_count": null,
   "id": "28ff4dcc-1710-4d4d-94cc-20cb5f886b21",
   "metadata": {},
   "outputs": [],
   "source": []
  }
 ],
 "metadata": {
  "kernelspec": {
   "display_name": "Python 3 (ipykernel)",
   "language": "python",
   "name": "python3"
  },
  "language_info": {
   "codemirror_mode": {
    "name": "ipython",
    "version": 3
   },
   "file_extension": ".py",
   "mimetype": "text/x-python",
   "name": "python",
   "nbconvert_exporter": "python",
   "pygments_lexer": "ipython3",
   "version": "3.12.1"
  }
 },
 "nbformat": 4,
 "nbformat_minor": 5
}
